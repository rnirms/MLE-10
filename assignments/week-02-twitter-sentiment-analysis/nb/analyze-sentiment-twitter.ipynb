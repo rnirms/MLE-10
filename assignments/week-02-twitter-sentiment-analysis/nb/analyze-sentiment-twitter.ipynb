{
 "cells": [
  {
   "cell_type": "markdown",
   "id": "24d097db",
   "metadata": {},
   "source": [
    "<p align = \"center\" draggable=”false” ><img src=\"https://user-images.githubusercontent.com/37101144/161836199-fdb0219d-0361-4988-bf26-48b0fad160a3.png\"\n",
    "     width=\"200px\"\n",
    "     height=\"auto\"/>\n",
    "</p>\n",
    "\n",
    "# <h1 align=\"center\" id=\"heading\">Sentiment Analysis of Twitter Data</h1>\n",
    "\n",
    "<hr>\n",
    "\n",
    "\n",
    "### ☑️ Objectives\n",
    "At the end of this session, you will be able to:\n",
    "- [ ] Understand how to find and run pre-trained models\n",
    "- [ ] Evaluate results from pre-trained models\n",
    "- [ ] Run a pre-trained model using real twitter data\n",
    "\n",
    "\n",
    "### 🔨 Pre-Assignment\n",
    "\n",
    "Create a new Conda environment for sentiment anaylsis (sa)\n",
    "\n",
    "```bash\n",
    "  conda create -n sa python=3.8 jupyter -y\n",
    "```\n",
    "\n",
    "Activate your new environment\n",
    "```bash\n",
    "  conda activate sa\n",
    "```\n",
    "\n",
    "Open the jupyter-notebook\n",
    "```bash\n",
    "  jupyter-notebook\n",
    "```\n",
    "\n",
    "Navigate through the repo in the notebook to find `imports.ipynb` for this week and open it.\n",
    "\n",
    "Run all of the cells in the notebook.\n",
    "\n",
    "\n",
    "### Background\n",
    "Please review the weekly narrative [here](https://www.notion.so/Week-2-Data-Centric-AI-the-AI-Product-Lifecycle-72a84c1517b44fcbb3e6bd11d47477dc#2b73937612bb46559f5b91dc2bf55e7d)\n",
    "\n",
    "\n"
   ]
  },
  {
   "cell_type": "markdown",
   "id": "b3934e6e",
   "metadata": {},
   "source": [
    "<hr>"
   ]
  },
  {
   "cell_type": "markdown",
   "id": "d1a5ab14",
   "metadata": {},
   "source": [
    "## 🚀 Let's Get Started"
   ]
  },
  {
   "cell_type": "markdown",
   "id": "bea542cb",
   "metadata": {},
   "source": [
    "Let's first start with our imports"
   ]
  },
  {
   "cell_type": "code",
   "execution_count": 1,
   "id": "f67dcb2b",
   "metadata": {
    "scrolled": true
   },
   "outputs": [
    {
     "name": "stderr",
     "output_type": "stream",
     "text": [
      "/Users/rnirms/anaconda3/envs/sa/lib/python3.8/site-packages/tqdm/auto.py:22: TqdmWarning: IProgress not found. Please update jupyter and ipywidgets. See https://ipywidgets.readthedocs.io/en/stable/user_install.html\n",
      "  from .autonotebook import tqdm as notebook_tqdm\n"
     ]
    }
   ],
   "source": [
    "import csv # Allows us to read and write csv files\n",
    "from pprint import pprint # Make our print functions easier to read\n",
    "\n",
    "from transformers import pipeline # Hugging face pipeline to load online models"
   ]
  },
  {
   "cell_type": "markdown",
   "id": "62d4028f",
   "metadata": {},
   "source": [
    "🤗 Transformers provides thousands of pretrained models to perform tasks on different modalities such as text, vision, and audio.\n",
    "\n",
    "These models can be applied on:\n",
    "- 📝 Text, for tasks like text classification, information extraction, question answering, summarization, translation, text generation, in over 100 languages.\n",
    "\n",
    "- 🖼️ Images, for tasks like image classification, object detection, and segmentation.\n",
    "- 🗣️ Audio, for tasks like speech recognition and audio classification.\n",
    "\n",
    "This is the pipeline method in transformers that we'll be using to analyze our sentiment data. Since we're not specifying a pretrained model, the pipeline has a default sentiment analysis model called [distilbert-base-uncased-finetuned-sst-2-english](https://huggingface.co/distilbert-base-uncased-finetuned-sst-2-english)."
   ]
  },
  {
   "cell_type": "code",
   "execution_count": 2,
   "id": "9c3e6e41",
   "metadata": {},
   "outputs": [
    {
     "name": "stderr",
     "output_type": "stream",
     "text": [
      "No model was supplied, defaulted to distilbert-base-uncased-finetuned-sst-2-english and revision af0f99b (https://huggingface.co/distilbert-base-uncased-finetuned-sst-2-english).\n",
      "Using a pipeline without specifying a model name and revision in production is not recommended.\n"
     ]
    }
   ],
   "source": [
    "sentiment_pipeline = pipeline(\"sentiment-analysis\")"
   ]
  },
  {
   "cell_type": "code",
   "execution_count": 4,
   "id": "f984be6d",
   "metadata": {},
   "outputs": [
    {
     "data": {
      "text/plain": [
       "<transformers.pipelines.text_classification.TextClassificationPipeline at 0x7fafd6d3e1c0>"
      ]
     },
     "execution_count": 4,
     "metadata": {},
     "output_type": "execute_result"
    }
   ],
   "source": [
    "sentiment_pipeline"
   ]
  },
  {
   "cell_type": "markdown",
   "id": "e30b34b2",
   "metadata": {},
   "source": [
    "In this example, we'll supply two polar sentiments and test out the model pipeline."
   ]
  },
  {
   "cell_type": "code",
   "execution_count": 5,
   "id": "de41c494",
   "metadata": {},
   "outputs": [
    {
     "data": {
      "text/plain": [
       "[{'label': 'POSITIVE', 'score': 0.9998694658279419},\n",
       " {'label': 'NEGATIVE', 'score': 0.994263231754303}]"
      ]
     },
     "execution_count": 5,
     "metadata": {},
     "output_type": "execute_result"
    }
   ],
   "source": [
    "data = [\"This is great!\", \"Oh no!\"]\n",
    "sentiment_pipeline(data)"
   ]
  },
  {
   "cell_type": "markdown",
   "id": "39d04139",
   "metadata": {},
   "source": [
    "The `label` in this case indicates the prediction for the sentiment type.\n",
    "\n",
    "The `score` indicates the confidence of the prediction (between 0 and 1).\n",
    "\n",
    "Since our sentiments were very polar, it was easier for the model to predict the sentiment type.\n",
    "\n",
    "Let's see what happens when we use a less clear example:"
   ]
  },
  {
   "cell_type": "code",
   "execution_count": 6,
   "id": "c077f881",
   "metadata": {},
   "outputs": [
    {
     "data": {
      "text/plain": [
       "[{'label': 'NEGATIVE', 'score': 0.9955562949180603},\n",
       " {'label': 'NEGATIVE', 'score': 0.9860844016075134}]"
      ]
     },
     "execution_count": 6,
     "metadata": {},
     "output_type": "execute_result"
    }
   ],
   "source": [
    "challenging_sentiments = [\"I don't think freddriq should leave, he's been helpful.\",\n",
    "                          \"Is that the lake we went to last month?\"]\n",
    "sentiment_pipeline(challenging_sentiments)"
   ]
  },
  {
   "cell_type": "markdown",
   "id": "c64b62d4",
   "metadata": {},
   "source": [
    "<hr>\n",
    "\n",
    "### Loading the Twitter Data\n",
    "\n",
    "Let's play with some twitter data. We'll be using a modified version of the [Elon Musk twitter dataset on Kaggle](https://www.kaggle.com/datasets/andradaolteanu/all-elon-musks-tweets)."
   ]
  },
  {
   "cell_type": "code",
   "execution_count": 19,
   "id": "4c1a44d0",
   "metadata": {},
   "outputs": [
    {
     "name": "stdout",
     "output_type": "stream",
     "text": [
      "['@vincent13031925 For now. Costs are decreasing rapidly.',\n",
      " 'Love this beautiful shot',\n",
      " '@agnostoxxx @CathieDWood @ARKInvest Trust the shrub',\n",
      " 'The art In Cyberpunk is incredible',\n",
      " '@itsALLrisky 🤣🤣',\n",
      " '@seinfeldguru @WholeMarsBlog Nope haha',\n",
      " '@WholeMarsBlog If you don’t say anything &amp; engage Autopilot, it will '\n",
      " 'soon guess based on time of day, taking you home or to work or to what’s on '\n",
      " 'your calendar',\n",
      " '@DeltavPhotos @PortCanaveral That rocket is a hardcore veteran of many '\n",
      " 'missions',\n",
      " 'Blimps rock  https://t.co/e8cu5FkNOI',\n",
      " '@engineers_feed Due to lower gravity, you can travel from surface of Mars to '\n",
      " 'surface of Earth fairly easily with a single stage rocket. Earth to Mars is '\n",
      " 'vastly harder.',\n",
      " '@DrPhiltill Good thread',\n",
      " '@alexellisuk Pretty much',\n",
      " '@tesla_adri @WholeMarsBlog These things are best thought of as '\n",
      " 'probabilities. There are 5 forward-facing cameras. It is highly likely that '\n",
      " 'at least one of them will see multiple cars ahead.',\n",
      " '@WholeMarsBlog Sensors are a bitstream and cameras have several orders of '\n",
      " 'magnitude more bits/sec than radar (or lidar).   Radar must meaningfully '\n",
      " 'increase signal/noise of bitstream to be worth complexity of integrating '\n",
      " 'it.   As vision processing gets better, it just leaves radar far behind.',\n",
      " '@WholeMarsBlog When radar and vision disagree, which one do you believe? '\n",
      " 'Vision has much more precision, so better to double down on vision than do '\n",
      " 'sensor fusion.',\n",
      " '@WholeMarsBlog This is a major problem!',\n",
      " 'Just needs some legs',\n",
      " 'The Starship launch tower that catches the giant rocket booster is basically '\n",
      " 'Mechazilla',\n",
      " 'But wait how is the core of the earth lit by the sun? Stop asking '\n",
      " 'questions!!',\n",
      " 'Kong vs Godzilla has record for most meth ever consumed in a writer’s room',\n",
      " '@itsALLrisky 💯',\n",
      " '… going to moon very soon',\n",
      " '@Matsu_Kusarine @jagarikin Actually happened to me in Cyberpunk haha',\n",
      " '@TimBirks1 @Erdayastronaut @SpaceX Pretty much',\n",
      " '@memescryptor !',\n",
      " 'Where is Shrek 5!?  https://t.co/PqAZ5Mg8Es',\n",
      " '@AustinTeslaClub @OwenSparks_ @WholeMarsBlog Good point.   Next major '\n",
      " 'software rev will do much better with automating wipers, seat heating &amp; '\n",
      " 'defrost.   Probable seat settings just based on occupant mass distribution '\n",
      " 'should be possible.',\n",
      " '@Adamklotz_ @OwenSparks_ @WholeMarsBlog Yup',\n",
      " '@teslaownersSV @neuralink Turns out 🐒 love video games &amp; snacks just '\n",
      " 'like us!',\n",
      " 'It’s all about the cufflinks  https://t.co/elccqC0Zuf',\n",
      " '@chicago_glenn I feel like this sometimes',\n",
      " '@OwenSparks_ @WholeMarsBlog It will',\n",
      " '@OwenSparks_ @WholeMarsBlog Remove',\n",
      " '@w00ki33 @SpaceX @SuperclusterHQ Simulation is improving rendering '\n",
      " 'resolution  …',\n",
      " '@cleantechnica Congrats to NIO. That is a tough milestone.',\n",
      " '@WholeMarsBlog Almost ready with FSD Beta V9.0. Step change improvement is '\n",
      " 'massive, especially for weird corner cases &amp; bad weather. Pure vision, '\n",
      " 'no radar.',\n",
      " 'Thanks to all that helped SpaceX!',\n",
      " 'Just read it. Book is accurate.',\n",
      " '@TeslaGong Yeah',\n",
      " '@mikevanbus @TrungTPhan @neuralink Pretty much',\n",
      " ' https://t.co/XeQursZpvq',\n",
      " 'Soon our monkey will be on twitch &amp; discord haha',\n",
      " '@thenewsoncnbc @contessabrewer Good piece!',\n",
      " '@Kyler_Knoll @neuralink Comes with wireless charging baseball cap',\n",
      " '@TarekWaked @TechCrunch @etherington Pretty much 🤣🤣 Great episode!',\n",
      " 'A monkey is literally playing a video game telepathically using a brain '\n",
      " 'chip!!',\n",
      " '@lexfridman @neuralink Yes',\n",
      " 'The device is implanted flush with skull &amp; charges wirelessly, so you '\n",
      " 'look &amp; feel totally normal',\n",
      " '@IheartTesla Absolutely doable. Possibly as soon as Neuralink device version '\n",
      " '2, highly likely by version 3.',\n",
      " 'Later versions will be able to shunt signals from Neuralinks in brain to '\n",
      " 'Neuralinks in body motor/sensory neuron clusters, thus enabling, for '\n",
      " 'example, paraplegics to walk again',\n",
      " '@mindofkacper @neuralink Yes',\n",
      " 'First @Neuralink product will enable someone with paralysis to use a '\n",
      " 'smartphone with their mind faster than someone using thumbs',\n",
      " '@IheartTesla @neuralink Hopefully, later this year',\n",
      " '@tobyliiiiiiiiii Sure',\n",
      " 'Monkey plays Pong with his mind',\n",
      " '@dogeofficialceo @WatchersTank @SpaceX Looking at pups soon!',\n",
      " '@jordanxmajel @WatchersTank @SpaceX Shock absorption is built into tower '\n",
      " 'arms. Since tower is ground side, it can use a lot more mass to arrest '\n",
      " 'booster downward momentum.',\n",
      " '@jordanxmajel @WatchersTank @SpaceX Load points just below the grid fins',\n",
      " '@WatchersTank @SpaceX Just one skyscraper catching another nbd haha',\n",
      " 'Thanks Tesla suppliers for providing us with critical parts!',\n",
      " '@MarkJam93765764 @IvanEscobosa A tidal wave of vaccine is being produced!',\n",
      " '@jgrano305 Probably J&amp;J, but BioNtech &amp; Moderna are good too. Some '\n",
      " 'debate imo as to whether a second synthetic mRNA shot is really needed, but '\n",
      " 'the first is a no-brainer.',\n",
      " '@IvanEscobosa Latter',\n",
      " 'To be clear, I do support vaccines in general &amp; covid vaccines '\n",
      " 'specifically. The science is unequivocal.   In very rare cases, there is an '\n",
      " 'allergic reaction, but this is easily addressed with an EpiPen.',\n",
      " '@DavidWillisSLS @_Jevis_ @PPathole Needs legs for moon &amp; Mars',\n",
      " '@SciGuySpace Global payload to orbit is the key metric',\n",
      " '@Julius_Burton @Erdayastronaut @DJSnM @NASASpaceflight @ChrisG_NSF '\n",
      " '@thejackbeyer @FelixSchlang Nice',\n",
      " '@_Jevis_ @PPathole Ideal scenario imo is catching Starship in horizontal '\n",
      " '“glide” with no landing burn, although that is quite a challenge for the '\n",
      " 'tower! Next best is catching with tower, with emergency pad landing mode on '\n",
      " 'skirt (no legs).',\n",
      " '@PPathole Starship booster, largest flying object ever designed, will be '\n",
      " 'caught out of sky by launch tower. Big step forward, as reflight can be done '\n",
      " 'in under an hour.',\n",
      " '@WholeMarsBlog Well-written and fair, much like his articles on space',\n",
      " '@louisssdev @flcnhvy Coming soon. Crazy number of launches this year!',\n",
      " '@flcnhvy They will be recovered from the water &amp; reused',\n",
      " '“Tanks for the memery!” – Panzer of the Lake',\n",
      " '@CathieDWood @wintonARK @ARKInvest What do you think of the unusually high '\n",
      " 'ratio of S&amp;P market cap to GDP?',\n",
      " '@ID_AA_Carmack Some kind of ELO level, updated once or twice a year based on '\n",
      " 'what someone actually got done, might be most effective. Important that it '\n",
      " 'go both up *and* down.',\n",
      " '@Thomas38697956 New &amp; improved version!',\n",
      " '@Teslarati @ResidentSponge Special mention of Tesla China',\n",
      " '@shbzz Obv',\n",
      " '@Teslarati @ResidentSponge Great work by Tesla team!',\n",
      " '@EvaFoxU Nice',\n",
      " 'The Earth is not flat, it’s a hollow globe &amp; Donkey King lives there!',\n",
      " '@EvaFoxU Those two really could have come in handy for the stuck ship!',\n",
      " '@EvaFoxU Last Kingdom vs Vikings',\n",
      " '@spacex360 Ascent phase, transition to horizontal &amp; control during free '\n",
      " 'fall were good.   A (relatively) small CH4 leak led to fire on engine 2 '\n",
      " '&amp; fried part of avionics, causing hard start attempting landing burn in '\n",
      " 'CH4 turbopump.   This is getting fixed 6 ways to Sunday.',\n",
      " 'Godzilla vs Kong is so amaze much wow! Most insane movie I’ve ever seen! '\n",
      " 'Love letter to conspiracy theorists! And yet heartwarming in the end.',\n",
      " '@TerminalCount The Starships feast in Valhalla!',\n",
      " '@TerminalCount One of the greatest things I’ve ever seen',\n",
      " '@floko12022021 @HamblinZeke @katlinegrey Ich habe ein Semester Deutsch an '\n",
      " 'der Universität studiert usw',\n",
      " '@HamblinZeke @katlinegrey Haha Falcon? Nein!',\n",
      " '@tobyliiiiiiiiii @katlinegrey I recommend propulsive landing, as that is '\n",
      " 'extensible to planets, moons &amp; asteroids. Wings &amp; runways are '\n",
      " 'limited to Earth.',\n",
      " '@PPathole @katlinegrey For practical purposes, there is no limit. It will '\n",
      " 'just get increasingly difficult to service.',\n",
      " '@katlinegrey This a good path, but I recommend aiming for full reusability',\n",
      " 'Urgent need to build more housing in greater Austin area!',\n",
      " 'Austin++',\n",
      " 'No it doesn’t hurt at all 🩸  https://t.co/NnL6o1si0V',\n",
      " '@allrocketsboi True',\n",
      " '@GerberKawasaki I fried a lot of neurons on that problem!',\n",
      " 'Me in my sick new car (left him the money)  https://t.co/EGaY1FVfHm',\n",
      " '@TrungTPhan Had no money to invest in Zip2, but my founder equity yielded '\n",
      " '~$15M after tax. Of that, I rolled ~$10M into PayPal, which yielded ~$180M, '\n",
      " 'then …   Basic principle is that I would not ask investors to risk money on '\n",
      " 'my company if I would not also do so.',\n",
      " '@Gfilche Major new Supercharger station coming to Santa Monica soon! Hoping '\n",
      " 'to have 50’s diner &amp; 100 best movie clips playing too. Thanks Santa '\n",
      " 'Monica city!']\n"
     ]
    }
   ],
   "source": [
    "with open('../data/elonmusk_tweets.csv', newline='', encoding='utf8') as f:\n",
    "    tweets=[]\n",
    "    reader = csv.reader(f)\n",
    "    twitter_data = list(reader)\n",
    "    for tweet in twitter_data:\n",
    "        tweets.append(tweet[0])\n",
    "\n",
    "pprint(tweets[:100])"
   ]
  },
  {
   "cell_type": "code",
   "execution_count": 26,
   "id": "6ad70058",
   "metadata": {},
   "outputs": [
    {
     "name": "stdout",
     "output_type": "stream",
     "text": [
      "12562\n",
      "12562\n"
     ]
    }
   ],
   "source": [
    "reader #_csv.reader object  \n",
    "print(len(twitter_data)) #List of lists of strings  \n",
    "print(len(tweets)) #List of strings\n",
    "# pprint helps print the list with 1 item per row"
   ]
  },
  {
   "cell_type": "markdown",
   "id": "e630a8f1",
   "metadata": {},
   "source": [
    "First things first - let's look at the sentiment as determined by the [distilbert-base-uncased-finetuned-sst-2-english](https://huggingface.co/distilbert-base-uncased-finetuned-sst-2-english) (default model) in the pipeline."
   ]
  },
  {
   "cell_type": "code",
   "execution_count": 21,
   "id": "42b10279",
   "metadata": {},
   "outputs": [],
   "source": [
    "distil_sentiment = sentiment_pipeline(tweets[0:100])"
   ]
  },
  {
   "cell_type": "code",
   "execution_count": 54,
   "id": "4b618e3a",
   "metadata": {},
   "outputs": [
    {
     "data": {
      "text/plain": [
       "[{'label': 'NEGATIVE', 'score': 0.9963656663894653},\n",
       " {'label': 'NEGATIVE', 'score': 0.84983229637146},\n",
       " {'label': 'NEGATIVE', 'score': 0.9839497804641724},\n",
       " {'label': 'NEGATIVE', 'score': 0.9933285713195801},\n",
       " {'label': 'NEGATIVE', 'score': 0.9917682409286499},\n",
       " {'label': 'NEGATIVE', 'score': 0.9937851428985596},\n",
       " {'label': 'NEGATIVE', 'score': 0.9840983748435974},\n",
       " {'label': 'NEGATIVE', 'score': 0.9142526388168335},\n",
       " {'label': 'NEGATIVE', 'score': 0.9978026747703552},\n",
       " {'label': 'NEGATIVE', 'score': 0.9946601986885071},\n",
       " {'label': 'NEGATIVE', 'score': 0.9995997548103333},\n",
       " {'label': 'NEGATIVE', 'score': 0.9987119436264038},\n",
       " {'label': 'NEGATIVE', 'score': 0.9935503005981445},\n",
       " {'label': 'NEGATIVE', 'score': 0.9984368681907654},\n",
       " {'label': 'NEGATIVE', 'score': 0.9839497804641724},\n",
       " {'label': 'NEGATIVE', 'score': 0.9860665202140808},\n",
       " {'label': 'NEGATIVE', 'score': 0.9977408647537231},\n",
       " {'label': 'NEGATIVE', 'score': 0.9840652346611023},\n",
       " {'label': 'NEGATIVE', 'score': 0.9497255682945251},\n",
       " {'label': 'NEGATIVE', 'score': 0.9904018044471741},\n",
       " {'label': 'NEGATIVE', 'score': 0.9996249675750732},\n",
       " {'label': 'NEGATIVE', 'score': 0.5542896389961243},\n",
       " {'label': 'NEGATIVE', 'score': 0.9983391761779785},\n",
       " {'label': 'NEGATIVE', 'score': 0.9930617213249207},\n",
       " {'label': 'NEGATIVE', 'score': 0.7775310277938843},\n",
       " {'label': 'NEGATIVE', 'score': 0.9503060579299927},\n",
       " {'label': 'NEGATIVE', 'score': 0.9828632473945618},\n",
       " {'label': 'NEGATIVE', 'score': 0.976280152797699},\n",
       " {'label': 'NEGATIVE', 'score': 0.9954861998558044},\n",
       " {'label': 'NEGATIVE', 'score': 0.6798872947692871},\n",
       " {'label': 'NEGATIVE', 'score': 0.9970796704292297},\n",
       " {'label': 'NEGATIVE', 'score': 0.8981125950813293},\n",
       " {'label': 'NEGATIVE', 'score': 0.9267996549606323},\n",
       " {'label': 'NEGATIVE', 'score': 0.9591715931892395},\n",
       " {'label': 'NEGATIVE', 'score': 0.9956945180892944},\n",
       " {'label': 'NEGATIVE', 'score': 0.9263049364089966},\n",
       " {'label': 'NEGATIVE', 'score': 0.9948424696922302},\n",
       " {'label': 'NEGATIVE', 'score': 0.9875005483627319},\n",
       " {'label': 'NEGATIVE', 'score': 0.9403653144836426},\n",
       " {'label': 'NEGATIVE', 'score': 0.5397657752037048},\n",
       " {'label': 'NEGATIVE', 'score': 0.9856399297714233},\n",
       " {'label': 'NEGATIVE', 'score': 0.8099887371063232},\n",
       " {'label': 'NEGATIVE', 'score': 0.9986506104469299},\n",
       " {'label': 'NEGATIVE', 'score': 0.7619274854660034},\n",
       " {'label': 'NEGATIVE', 'score': 0.9876651763916016},\n",
       " {'label': 'NEGATIVE', 'score': 0.9928374886512756},\n",
       " {'label': 'NEGATIVE', 'score': 0.9968679547309875},\n",
       " {'label': 'NEGATIVE', 'score': 0.9995256662368774},\n",
       " {'label': 'NEGATIVE', 'score': 0.9920915365219116},\n",
       " {'label': 'NEGATIVE', 'score': 0.998769223690033},\n",
       " {'label': 'NEGATIVE', 'score': 0.9957596659660339}]"
      ]
     },
     "execution_count": 54,
     "metadata": {},
     "output_type": "execute_result"
    }
   ],
   "source": [
    "len(distil_sentiment) #list of dictionaries?\n",
    "distil_sentiment[0]"
   ]
  },
  {
   "cell_type": "markdown",
   "id": "8ce3fefd",
   "metadata": {},
   "source": [
    "Let's check out the distribution of positive/negative Tweets and see the breakdown using Python's 🐍 standard library `collections.Counter`!"
   ]
  },
  {
   "cell_type": "code",
   "execution_count": 32,
   "id": "971a841d",
   "metadata": {},
   "outputs": [
    {
     "name": "stdout",
     "output_type": "stream",
     "text": [
      "49 (49.00%) of the tweets classified are positive.\n",
      "51 (51.00%) of the tweets classified are negative.\n"
     ]
    }
   ],
   "source": [
    "from collections import Counter\n",
    "\n",
    "tweet_distro = Counter([x['label'] for x in distil_sentiment])\n",
    "pos_sent_count = tweet_distro['POSITIVE']\n",
    "neg_sent_count = tweet_distro['NEGATIVE']\n",
    "total_sent_count = sum(tweet_distro.values())\n",
    "\n",
    "print(f\"{pos_sent_count} ({pos_sent_count / total_sent_count * 100:.2f}%) of the tweets classified are positive.\")\n",
    "print(f\"{neg_sent_count} ({neg_sent_count / total_sent_count * 100:.2f}%) of the tweets classified are negative.\")"
   ]
  },
  {
   "cell_type": "code",
   "execution_count": 37,
   "id": "5d917aad",
   "metadata": {},
   "outputs": [
    {
     "data": {
      "text/plain": [
       "dict_values([51, 49])"
      ]
     },
     "execution_count": 37,
     "metadata": {},
     "output_type": "execute_result"
    }
   ],
   "source": [
    "tweet_distro #Counter object with counts for each 'label' stored as a dictionary \n",
    "tweet_distro.keys() #Shows keys \n",
    "tweet_distro.values() #Shows values "
   ]
  },
  {
   "cell_type": "code",
   "execution_count": 39,
   "id": "a0d8e48a",
   "metadata": {},
   "outputs": [
    {
     "name": "stdout",
     "output_type": "stream",
     "text": [
      "Collecting matplotlib\n",
      "  Downloading matplotlib-3.6.1-cp38-cp38-macosx_10_12_x86_64.whl (7.3 MB)\n",
      "\u001b[2K     \u001b[90m━━━━━━━━━━━━━━━━━━━━━━━━━━━━━━━━━━━━━━━━\u001b[0m \u001b[32m7.3/7.3 MB\u001b[0m \u001b[31m12.1 MB/s\u001b[0m eta \u001b[36m0:00:00\u001b[0m00:01\u001b[0m00:01\u001b[0m\n",
      "\u001b[?25hRequirement already satisfied: numpy>=1.19 in /Users/rnirms/anaconda3/envs/sa/lib/python3.8/site-packages (from matplotlib) (1.23.4)\n",
      "Collecting cycler>=0.10\n",
      "  Downloading cycler-0.11.0-py3-none-any.whl (6.4 kB)\n",
      "Collecting pillow>=6.2.0\n",
      "  Downloading Pillow-9.2.0-cp38-cp38-macosx_10_10_x86_64.whl (3.1 MB)\n",
      "\u001b[2K     \u001b[90m━━━━━━━━━━━━━━━━━━━━━━━━━━━━━━━━━━━━━━━━\u001b[0m \u001b[32m3.1/3.1 MB\u001b[0m \u001b[31m14.5 MB/s\u001b[0m eta \u001b[36m0:00:00\u001b[0m00:01\u001b[0m00:01\u001b[0m\n",
      "\u001b[?25hCollecting kiwisolver>=1.0.1\n",
      "  Downloading kiwisolver-1.4.4-cp38-cp38-macosx_10_9_x86_64.whl (65 kB)\n",
      "\u001b[2K     \u001b[90m━━━━━━━━━━━━━━━━━━━━━━━━━━━━━━━━━━━━━━━\u001b[0m \u001b[32m65.4/65.4 kB\u001b[0m \u001b[31m628.7 kB/s\u001b[0m eta \u001b[36m0:00:00\u001b[0ma \u001b[36m0:00:01\u001b[0m\n",
      "\u001b[?25hCollecting contourpy>=1.0.1\n",
      "  Downloading contourpy-1.0.5-cp38-cp38-macosx_10_9_x86_64.whl (241 kB)\n",
      "\u001b[2K     \u001b[90m━━━━━━━━━━━━━━━━━━━━━━━━━━━━━━━━━━━━━━━\u001b[0m \u001b[32m241.2/241.2 kB\u001b[0m \u001b[31m2.5 MB/s\u001b[0m eta \u001b[36m0:00:00\u001b[0m00:01\u001b[0m\n",
      "\u001b[?25hRequirement already satisfied: python-dateutil>=2.7 in /Users/rnirms/anaconda3/envs/sa/lib/python3.8/site-packages (from matplotlib) (2.8.2)\n",
      "Requirement already satisfied: packaging>=20.0 in /Users/rnirms/anaconda3/envs/sa/lib/python3.8/site-packages (from matplotlib) (21.3)\n",
      "Collecting fonttools>=4.22.0\n",
      "  Downloading fonttools-4.38.0-py3-none-any.whl (965 kB)\n",
      "\u001b[2K     \u001b[90m━━━━━━━━━━━━━━━━━━━━━━━━━━━━━━━━━━━━━━━\u001b[0m \u001b[32m965.4/965.4 kB\u001b[0m \u001b[31m6.5 MB/s\u001b[0m eta \u001b[36m0:00:00\u001b[0m00:01\u001b[0m\n",
      "\u001b[?25hRequirement already satisfied: pyparsing>=2.2.1 in /Users/rnirms/anaconda3/envs/sa/lib/python3.8/site-packages (from matplotlib) (3.0.9)\n",
      "Requirement already satisfied: six>=1.5 in /Users/rnirms/anaconda3/envs/sa/lib/python3.8/site-packages (from python-dateutil>=2.7->matplotlib) (1.16.0)\n",
      "Installing collected packages: pillow, kiwisolver, fonttools, cycler, contourpy, matplotlib\n",
      "Successfully installed contourpy-1.0.5 cycler-0.11.0 fonttools-4.38.0 kiwisolver-1.4.4 matplotlib-3.6.1 pillow-9.2.0\n",
      "Requirement already satisfied: numpy in /Users/rnirms/anaconda3/envs/sa/lib/python3.8/site-packages (1.23.4)\n"
     ]
    },
    {
     "data": {
      "image/png": "[encoded data removed]",
      "text/plain": [
       "<Figure size 640x480 with 1 Axes>"
      ]
     },
     "metadata": {},
     "output_type": "display_data"
    }
   ],
   "source": [
    "# Histogram of scores - will it be bimodal? Very strong positive and very strong negative tweets?\n",
    "!pip install matplotlib \n",
    "!pip install numpy\n",
    "\n",
    "import matplotlib.pyplot as plt\n",
    "import numpy as np\n",
    "\n",
    "scores = [x['score'] for x in distil_sentiment]\n",
    "plt.hist(scores)\n",
    "plt.show()"
   ]
  },
  {
   "cell_type": "code",
   "execution_count": 66,
   "id": "19f75fae",
   "metadata": {},
   "outputs": [
    {
     "data": {
      "image/png": "[encoded data removed]",
      "text/plain": [
       "<Figure size 640x480 with 2 Axes>"
      ]
     },
     "metadata": {},
     "output_type": "display_data"
    }
   ],
   "source": [
    "#Scores are close to 1! So what was the threshold used to get a 49-51 split?\n",
    "#Show the histogram separately for POSITIVE and NEGATIVE \n",
    "ds_score_pos = [ x['score'] for x in distil_sentiment if x['label']=='POSITIVE' ]\n",
    "ds_score_neg = [ x['score'] for x in distil_sentiment if x['label']=='NEGATIVE' ]\n",
    "\n",
    "\n",
    "fig, axs = plt.subplots(1,2)\n",
    "\n",
    "axs[0].set_title('POSITIVE')\n",
    "axs[0].hist(ds_score_pos)\n",
    "\n",
    "axs[1].set_title('NEGATIVE')\n",
    "axs[1].hist(ds_score_neg)\n",
    "\n",
    "fig.suptitle('Histogram of scores')\n",
    "plt.tight_layout()\n",
    "plt.show()\n",
    "\n",
    "#Turns out the outputs are that of a softmax/binary classifier! P(POSITIVE) + P(NEGATIVE) is NOT 1. \n",
    "#Each class POSITIVE and NEGATIVE has its own probability.\n",
    "#It looks like a pretty confident model with most scores above 0.9! "
   ]
  },
  {
   "cell_type": "markdown",
   "id": "42155a0c",
   "metadata": {},
   "source": [
    "Let's do that process again, but use a model with an additional potential label \"NEUTRAL\" called [bertweet-sentiment-analysis](https://huggingface.co/finiteautomata/bertweet-base-sentiment-analysis)\n",
    "\n",
    "To start - we'll build a pipeline with the new model by using the 🤗 Hugging Face address: `finiteautomata/bertweet-base-sentiment-analysis`"
   ]
  },
  {
   "cell_type": "code",
   "execution_count": 67,
   "id": "3fd6e37f",
   "metadata": {},
   "outputs": [
    {
     "name": "stderr",
     "output_type": "stream",
     "text": [
      "Downloading: 100%|██████████████████████████████████████| 1.42k/1.42k [00:00<00:00, 442kB/s]\n"
     ]
    }
   ],
   "source": [
    "bertweet_pipeline = pipeline(model=\"finiteautomata/bertweet-base-sentiment-analysis\")"
   ]
  },
  {
   "cell_type": "markdown",
   "id": "7025127d",
   "metadata": {},
   "source": [
    "Next, and the same as before, let's run the analysis on 100 of Elon's tweets."
   ]
  },
  {
   "cell_type": "code",
   "execution_count": 68,
   "id": "5daa650d",
   "metadata": {},
   "outputs": [],
   "source": [
    "bert_sentiment = bertweet_pipeline(tweets[0:100])"
   ]
  },
  {
   "cell_type": "code",
   "execution_count": 70,
   "id": "6f17dcec",
   "metadata": {},
   "outputs": [
    {
     "name": "stdout",
     "output_type": "stream",
     "text": [
      "(Tweet) @Erdayastronaut @Tesla Tesla is building up collision repair capability to help address the grief that you went through, but usually insurance companies make you go their “approved” collision repair partners. Tesla Insurance will make it smooth sailing., (Sentiment) {'label': 'NEU', 'score': 0.9523929953575134}\n"
     ]
    }
   ],
   "source": [
    "print(f\"(Tweet) {tweet[0]}, (Sentiment) {bert_sentiment[0]}\")"
   ]
  },
  {
   "cell_type": "markdown",
   "id": "6d8a316d",
   "metadata": {},
   "source": [
    "And then, let's check out the breakdown of positive, negative, AND neutral sentiments!"
   ]
  },
  {
   "cell_type": "code",
   "execution_count": 71,
   "id": "6996cc58",
   "metadata": {},
   "outputs": [
    {
     "name": "stdout",
     "output_type": "stream",
     "text": [
      "29 (29.00%) of the tweets classified are positive.\n",
      "64 (64.00%) of the tweets classified are neutral.\n",
      "7 (7.00%) of the tweets classified are negative.\n"
     ]
    }
   ],
   "source": [
    "from collections import Counter\n",
    "\n",
    "tweet_distro = Counter([x['label'] for x in bert_sentiment])\n",
    "pos_sent_count = tweet_distro['POS']\n",
    "neu_sent_count = tweet_distro['NEU']\n",
    "neg_sent_count = tweet_distro['NEG']\n",
    "total_sent_count = sum(tweet_distro.values())\n",
    "\n",
    "print(f\"{pos_sent_count} ({pos_sent_count / total_sent_count * 100:.2f}%) of the tweets classified are positive.\")\n",
    "print(f\"{neu_sent_count} ({neu_sent_count / total_sent_count * 100:.2f}%) of the tweets classified are neutral.\")\n",
    "print(f\"{neg_sent_count} ({neg_sent_count / total_sent_count * 100:.2f}%) of the tweets classified are negative.\")"
   ]
  },
  {
   "cell_type": "code",
   "execution_count": 90,
   "id": "a55d73de",
   "metadata": {},
   "outputs": [
    {
     "data": {
      "image/png": "[encoded data removed]",
      "text/plain": [
       "<Figure size 640x480 with 3 Axes>"
      ]
     },
     "metadata": {},
     "output_type": "display_data"
    }
   ],
   "source": [
    "ds_score_pos = [ x['score'] for x in bert_sentiment if x['label']=='POS' ]\n",
    "ds_score_neu = [ x['score'] for x in bert_sentiment if x['label']=='NEU' ]\n",
    "ds_score_neg = [ x['score'] for x in bert_sentiment if x['label']=='NEG' ]\n",
    "\n",
    "fig, axs = plt.subplots(1,3, sharey='row', sharex='row')\n",
    "\n",
    "axs[0].set_title('POSITIVE')\n",
    "axs[0].hist(ds_score_pos)\n",
    "\n",
    "axs[1].set_title('NEUTRAL')\n",
    "axs[1].hist(ds_score_neu)\n",
    "\n",
    "axs[2].set_title('NEGATIVE')\n",
    "axs[2].hist(ds_score_neg)\n",
    "\n",
    "fig.suptitle('Histogram of scores')\n",
    "plt.tight_layout()\n",
    "plt.show()"
   ]
  },
  {
   "cell_type": "code",
   "execution_count": 114,
   "id": "74e05aae",
   "metadata": {},
   "outputs": [
    {
     "name": "stdout",
     "output_type": "stream",
     "text": [
      "@vincent13031925 For now. Costs are decreasing rapidly.: NEGATIVE\n",
      "@agnostoxxx @CathieDWood @ARKInvest Trust the shrub: NEGATIVE\n",
      "@seinfeldguru @WholeMarsBlog Nope haha: NEGATIVE\n",
      "@WholeMarsBlog If you don’t say anything &amp; engage Autopilot, it will soon guess based on time of day, taking you home or to work or to what’s on your calendar: NEGATIVE\n",
      "@engineers_feed Due to lower gravity, you can travel from surface of Mars to surface of Earth fairly easily with a single stage rocket. Earth to Mars is vastly harder.: NEGATIVE\n",
      "@tesla_adri @WholeMarsBlog These things are best thought of as probabilities. There are 5 forward-facing cameras. It is highly likely that at least one of them will see multiple cars ahead.: NEGATIVE\n",
      "@WholeMarsBlog Sensors are a bitstream and cameras have several orders of magnitude more bits/sec than radar (or lidar).   Radar must meaningfully increase signal/noise of bitstream to be worth complexity of integrating it.   As vision processing gets better, it just leaves radar far behind.: NEGATIVE\n",
      "@WholeMarsBlog When radar and vision disagree, which one do you believe? Vision has much more precision, so better to double down on vision than do sensor fusion.: NEGATIVE\n",
      "Just needs some legs: NEGATIVE\n",
      "The Starship launch tower that catches the giant rocket booster is basically Mechazilla: NEGATIVE\n",
      "@Matsu_Kusarine @jagarikin Actually happened to me in Cyberpunk haha: NEGATIVE\n",
      "Where is Shrek 5!?  https://t.co/PqAZ5Mg8Es: NEGATIVE\n",
      "@Adamklotz_ @OwenSparks_ @WholeMarsBlog Yup: NEGATIVE\n",
      "It’s all about the cufflinks  https://t.co/elccqC0Zuf: NEGATIVE\n",
      "@OwenSparks_ @WholeMarsBlog Remove: NEGATIVE\n",
      "@WholeMarsBlog Almost ready with FSD Beta V9.0. Step change improvement is massive, especially for weird corner cases &amp; bad weather. Pure vision, no radar.: NEGATIVE\n",
      " https://t.co/XeQursZpvq: NEGATIVE\n",
      "@Kyler_Knoll @neuralink Comes with wireless charging baseball cap: NEGATIVE\n",
      "A monkey is literally playing a video game telepathically using a brain chip!!: NEGATIVE\n",
      "The device is implanted flush with skull &amp; charges wirelessly, so you look &amp; feel totally normal: NEGATIVE\n",
      "@jordanxmajel @WatchersTank @SpaceX Shock absorption is built into tower arms. Since tower is ground side, it can use a lot more mass to arrest booster downward momentum.: NEGATIVE\n",
      "@jordanxmajel @WatchersTank @SpaceX Load points just below the grid fins: NEGATIVE\n",
      "@MarkJam93765764 @IvanEscobosa A tidal wave of vaccine is being produced!: NEGATIVE\n",
      "@IvanEscobosa Latter: NEGATIVE\n",
      "To be clear, I do support vaccines in general &amp; covid vaccines specifically. The science is unequivocal.   In very rare cases, there is an allergic reaction, but this is easily addressed with an EpiPen.: NEGATIVE\n",
      "@DavidWillisSLS @_Jevis_ @PPathole Needs legs for moon &amp; Mars: NEGATIVE\n",
      "@flcnhvy They will be recovered from the water &amp; reused: NEGATIVE\n",
      "“Tanks for the memery!” – Panzer of the Lake: NEGATIVE\n",
      "@CathieDWood @wintonARK @ARKInvest What do you think of the unusually high ratio of S&amp;P market cap to GDP?: NEGATIVE\n",
      "@ID_AA_Carmack Some kind of ELO level, updated once or twice a year based on what someone actually got done, might be most effective. Important that it go both up *and* down.: NEGATIVE\n",
      "@shbzz Obv: NEGATIVE\n",
      "The Earth is not flat, it’s a hollow globe &amp; Donkey King lives there!: NEGATIVE\n",
      "@EvaFoxU Those two really could have come in handy for the stuck ship!: NEGATIVE\n",
      "@EvaFoxU Last Kingdom vs Vikings: NEGATIVE\n",
      "@spacex360 Ascent phase, transition to horizontal &amp; control during free fall were good.   A (relatively) small CH4 leak led to fire on engine 2 &amp; fried part of avionics, causing hard start attempting landing burn in CH4 turbopump.   This is getting fixed 6 ways to Sunday.: NEGATIVE\n",
      "@floko12022021 @HamblinZeke @katlinegrey Ich habe ein Semester Deutsch an der Universität studiert usw: NEGATIVE\n",
      "@HamblinZeke @katlinegrey Haha Falcon? Nein!: NEGATIVE\n",
      "@PPathole @katlinegrey For practical purposes, there is no limit. It will just get increasingly difficult to service.: NEGATIVE\n",
      "Me in my sick new car (left him the money)  https://t.co/EGaY1FVfHm: NEGATIVE\n",
      "@TrungTPhan Had no money to invest in Zip2, but my founder equity yielded ~$15M after tax. Of that, I rolled ~$10M into PayPal, which yielded ~$180M, then …   Basic principle is that I would not ask investors to risk money on my company if I would not also do so.: NEGATIVE\n",
      "@DeltavPhotos @PortCanaveral That rocket is a hardcore veteran of many missions: POSITIVE\n",
      "@alexellisuk Pretty much: POSITIVE\n",
      "… going to moon very soon: POSITIVE\n",
      "@TimBirks1 @Erdayastronaut @SpaceX Pretty much: POSITIVE\n",
      "@chicago_glenn I feel like this sometimes: POSITIVE\n",
      "@OwenSparks_ @WholeMarsBlog It will: POSITIVE\n",
      "@TeslaGong Yeah: POSITIVE\n",
      "@mikevanbus @TrungTPhan @neuralink Pretty much: POSITIVE\n",
      "@lexfridman @neuralink Yes: POSITIVE\n",
      "Later versions will be able to shunt signals from Neuralinks in brain to Neuralinks in body motor/sensory neuron clusters, thus enabling, for example, paraplegics to walk again: POSITIVE\n",
      "@mindofkacper @neuralink Yes: POSITIVE\n",
      "@tobyliiiiiiiiii Sure: POSITIVE\n",
      "Monkey plays Pong with his mind: POSITIVE\n",
      "@dogeofficialceo @WatchersTank @SpaceX Looking at pups soon!: POSITIVE\n",
      "@WatchersTank @SpaceX Just one skyscraper catching another nbd haha: POSITIVE\n",
      "@SciGuySpace Global payload to orbit is the key metric: POSITIVE\n",
      "@_Jevis_ @PPathole Ideal scenario imo is catching Starship in horizontal “glide” with no landing burn, although that is quite a challenge for the tower! Next best is catching with tower, with emergency pad landing mode on skirt (no legs).: POSITIVE\n",
      "@PPathole Starship booster, largest flying object ever designed, will be caught out of sky by launch tower. Big step forward, as reflight can be done in under an hour.: POSITIVE\n",
      "@Teslarati @ResidentSponge Special mention of Tesla China: POSITIVE\n",
      "@TerminalCount The Starships feast in Valhalla!: POSITIVE\n",
      "@tobyliiiiiiiiii @katlinegrey I recommend propulsive landing, as that is extensible to planets, moons &amp; asteroids. Wings &amp; runways are limited to Earth.: POSITIVE\n",
      "Urgent need to build more housing in greater Austin area!: POSITIVE\n",
      "Austin++: POSITIVE\n",
      "@allrocketsboi True: POSITIVE\n"
     ]
    }
   ],
   "source": [
    "#Show the 64% neutral tweets \n",
    "for i in range(100):\n",
    "    if((bert_sentiment[i]['label']=='NEU') & (distil_sentiment[i]['label']=='NEGATIVE')):\n",
    "        print(f\"{tweets[i]}: {distil_sentiment[i]['label']}\")\n",
    "for i in range(100):    \n",
    "    if((bert_sentiment[i]['label']=='NEU') & (distil_sentiment[i]['label']=='POSITIVE')):\n",
    "        print(f\"{tweets[i]}: {distil_sentiment[i]['label']}\")"
   ]
  },
  {
   "cell_type": "markdown",
   "id": "60c3ba2e",
   "metadata": {},
   "source": [
    "The posts that distil_bert treated as NEGATIVE or POSITIVE actually do look more neutral. Elon Musk seems like an optimistic person on Twitter! "
   ]
  },
  {
   "cell_type": "code",
   "execution_count": 116,
   "id": "6ccef26b",
   "metadata": {},
   "outputs": [
    {
     "name": "stdout",
     "output_type": "stream",
     "text": [
      "Love this beautiful shot\n",
      "The art In Cyberpunk is incredible\n",
      "@DrPhiltill Good thread\n",
      "@memescryptor !\n",
      "@teslaownersSV @neuralink Turns out 🐒 love video games &amp; snacks just like us!\n",
      "@w00ki33 @SpaceX @SuperclusterHQ Simulation is improving rendering resolution  …\n",
      "Thanks to all that helped SpaceX!\n",
      "Just read it. Book is accurate.\n",
      "@thenewsoncnbc @contessabrewer Good piece!\n",
      "@TarekWaked @TechCrunch @etherington Pretty much 🤣🤣 Great episode!\n",
      "@IheartTesla Absolutely doable. Possibly as soon as Neuralink device version 2, highly likely by version 3.\n",
      "@IheartTesla @neuralink Hopefully, later this year\n",
      "Thanks Tesla suppliers for providing us with critical parts!\n",
      "@jgrano305 Probably J&amp;J, but BioNtech &amp; Moderna are good too. Some debate imo as to whether a second synthetic mRNA shot is really needed, but the first is a no-brainer.\n",
      "@WholeMarsBlog Well-written and fair, much like his articles on space\n",
      "@louisssdev @flcnhvy Coming soon. Crazy number of launches this year!\n",
      "@Thomas38697956 New &amp; improved version!\n",
      "@Teslarati @ResidentSponge Great work by Tesla team!\n",
      "@EvaFoxU Nice\n",
      "Godzilla vs Kong is so amaze much wow! Most insane movie I’ve ever seen! Love letter to conspiracy theorists! And yet heartwarming in the end.\n",
      "@TerminalCount One of the greatest things I’ve ever seen\n",
      "@katlinegrey This a good path, but I recommend aiming for full reusability\n",
      "No it doesn’t hurt at all 🩸  https://t.co/NnL6o1si0V\n",
      "@Gfilche Major new Supercharger station coming to Santa Monica soon! Hoping to have 50’s diner &amp; 100 best movie clips playing too. Thanks Santa Monica city!\n"
     ]
    }
   ],
   "source": [
    "# Show the tweets that are positive for both models\n",
    "for i in range(100):\n",
    "    if((bert_sentiment[i]['label']=='POS') & (distil_sentiment[i]['label']=='POSITIVE')):\n",
    "        print(f\"{tweets[i]}\")"
   ]
  },
  {
   "cell_type": "code",
   "execution_count": 117,
   "id": "ba9fc5bb",
   "metadata": {},
   "outputs": [
    {
     "name": "stdout",
     "output_type": "stream",
     "text": [
      "@itsALLrisky 🤣🤣\n",
      "@WholeMarsBlog This is a major problem!\n",
      "But wait how is the core of the earth lit by the sun? Stop asking questions!!\n",
      "@itsALLrisky 💯\n",
      "First @Neuralink product will enable someone with paralysis to use a smartphone with their mind faster than someone using thumbs\n",
      "@GerberKawasaki I fried a lot of neurons on that problem!\n"
     ]
    }
   ],
   "source": [
    "# Show the tweets that are negative for both models\n",
    "for i in range(100):\n",
    "    if((bert_sentiment[i]['label']=='NEG') & (distil_sentiment[i]['label']=='NEGATIVE')):\n",
    "        print(f\"{tweets[i]}\")"
   ]
  },
  {
   "cell_type": "markdown",
   "id": "47c40082",
   "metadata": {},
   "source": [
    "Both models make a mistake with these tweets - they dont sound Negative at all!:\n",
    "@itsALLrisky 🤣🤣\n",
    "First @Neuralink product will enable someone with paralysis to use a smartphone with their mind faster than someone using thumbs"
   ]
  },
  {
   "cell_type": "code",
   "execution_count": 112,
   "id": "66ab0d2e",
   "metadata": {},
   "outputs": [
    {
     "name": "stdout",
     "output_type": "stream",
     "text": [
      "Blimps rock  https://t.co/e8cu5FkNOI: POS, NEGATIVE\n",
      "Kong vs Godzilla has record for most meth ever consumed in a writer’s room: NEG, POSITIVE\n",
      "@AustinTeslaClub @OwenSparks_ @WholeMarsBlog Good point.   Next major software rev will do much better with automating wipers, seat heating &amp; defrost.   Probable seat settings just based on occupant mass distribution should be possible.: POS, NEGATIVE\n",
      "@cleantechnica Congrats to NIO. That is a tough milestone.: POS, NEGATIVE\n",
      "Soon our monkey will be on twitch &amp; discord haha: POS, NEGATIVE\n",
      "@Julius_Burton @Erdayastronaut @DJSnM @NASASpaceflight @ChrisG_NSF @thejackbeyer @FelixSchlang Nice: POS, NEGATIVE\n"
     ]
    }
   ],
   "source": [
    "# Show the tweets were the models disagree with each other (POS->NEG) or (NEG->POS)\n",
    "for i in range(100):\n",
    "    if((bert_sentiment[i]['label']=='POS') & (distil_sentiment[i]['label']=='NEGATIVE')):\n",
    "        print(f\"{tweets[i]}: {bert_sentiment[i]['label']}, {distil_sentiment[i]['label']}\")\n",
    "    if((bert_sentiment[i]['label']=='NEG') & (distil_sentiment[i]['label']=='POSITIVE')):\n",
    "        print(f\"{tweets[i]}: {bert_sentiment[i]['label']}, {distil_sentiment[i]['label']}\")\n",
    "        "
   ]
  },
  {
   "cell_type": "markdown",
   "id": "c88ba750",
   "metadata": {},
   "source": [
    "bert_sentiment seems to be correct with these - they do look positive: \n",
    "@AustinTeslaClub @OwenSparks_ @WholeMarsBlog Good point.   Next major software rev will do much better with automating wipers, seat heating &amp; defrost.   Probable seat settings just based on occupant mass distribution should be possible.: POS, NEGATIVE\n",
    "@cleantechnica Congrats to NIO. That is a tough milestone.: POS, NEGATIVE"
   ]
  },
  {
   "cell_type": "markdown",
   "id": "8185798d",
   "metadata": {},
   "source": [
    "❓ What do you notice about the difference in the results? \n",
    "\n",
    "❓ Do the results for the `bertweet-base` model look better, or worse, than the results for the `distilbert-base` model? Why?"
   ]
  },
  {
   "cell_type": "markdown",
   "id": "3a31b70c",
   "metadata": {},
   "source": [
    "What do you notice about the difference in the results?\n",
    "\n",
    "- bertweet-base model moves most of the NEGATIVEs and some of the POSITIVEs in distilbert-base to neutral class. If you look at the neutral tweets indeed many of them look neutral.  \n",
    "- both models make some mistakes together:\n",
    "Both models make a mistake with these tweets - they dont sound Negative at all!:\n",
    "@itsALLrisky 🤣🤣\n",
    "First @Neuralink product will enable someone with paralysis to use a smartphone with their mind faster than someone using thumbs\n",
    "- for the tweets in which they disagree, bert_sentiment seems to be more correct with these - they do look positive: \n",
    "@AustinTeslaClub @OwenSparks_ @WholeMarsBlog Good point.   Next major software rev will do much better with automating wipers, seat heating &amp; defrost.   Probable seat settings just based on occupant mass distribution should be possible.: POS, NEGATIVE\n",
    "@cleantechnica Congrats to NIO. That is a tough milestone.: POS, NEGATIVE\n",
    "\n",
    "\n",
    "Do the results for the bertweet-base model look better, or worse, than the results for the distilbert-base model? Why?\n",
    "\n",
    "Overall, it looks like bertweet-base model is doing better that the distilbert-base model by having an additional NEUtral class. When the models disagree sentiments on POS vs NEG sentiments, the ones bertweet-base declares as POSITIVE seem correct. "
   ]
  },
  {
   "cell_type": "markdown",
   "id": "6684f9ae",
   "metadata": {},
   "source": [
    "<hr>\n",
    "\n",
    "### Partner Exercise\n",
    "\n",
    "With your partner, try and determine what the following tweets might be classified as. Try to classify them into the same groups as both of the model pipelines we saw today - and try adding a few of your own sentences/Tweets! "
   ]
  },
  {
   "cell_type": "code",
   "execution_count": 123,
   "id": "451d8f26",
   "metadata": {},
   "outputs": [
    {
     "name": "stdout",
     "output_type": "stream",
     "text": [
      "Blimps rock  https://t.co/e8cu5FkNOI\n",
      "Kong vs Godzilla has record for most meth ever consumed in a writer’s room\n",
      "@Matsu_Kusarine @jagarikin Actually happened to me in Cyberpunk haha\n",
      "@memescryptor !\n",
      "@cleantechnica Congrats to NIO. That is a tough milestone.\n",
      "@WholeMarsBlog Almost ready with FSD Beta V9.0. Step change improvement is massive, especially for weird corner cases &amp; bad weather. Pure vision, no radar.\n",
      "Soon our monkey will be on twitch &amp; discord haha\n",
      "A monkey is literally playing a video game telepathically using a brain chip!!\n",
      "The device is implanted flush with skull &amp; charges wirelessly, so you look &amp; feel totally normal\n",
      "@dogeofficialceo @WatchersTank @SpaceX Looking at pups soon!\n",
      "@jordanxmajel @WatchersTank @SpaceX Shock absorption is built into tower arms. Since tower is ground side, it can use a lot more mass to arrest booster downward momentum.\n",
      "@ID_AA_Carmack Some kind of ELO level, updated once or twice a year based on what someone actually got done, might be most effective. Important that it go both up *and* down.\n",
      "@EvaFoxU Those two really could have come in handy for the stuck ship!\n",
      "@tobyliiiiiiiiii @katlinegrey I recommend propulsive landing, as that is extensible to planets, moons &amp; asteroids. Wings &amp; runways are limited to Earth.\n",
      "No it doesn’t hurt at all 🩸  https://t.co/NnL6o1si0V\n"
     ]
    }
   ],
   "source": [
    "# difficult tweets for distil_bert \n",
    "for i in range(100): \n",
    "    if((distil_sentiment[i]['score'] < 0.7) or (bert_sentiment[i]['score'] < 0.7)): \n",
    "        print(tweets[i])\n",
    "    "
   ]
  },
  {
   "cell_type": "code",
   "execution_count": 133,
   "id": "dcc55db9",
   "metadata": {},
   "outputs": [],
   "source": [
    "example_difficult_tweets = [\n",
    "    \"Kong vs Godzilla has record for most meth ever consumed in a writer's room\",\n",
    "    \"@ashleevance Battery energy density is the key to electric aircraft. Autonomy for aircraft could have been done a long time ago. Modern airliners are very close to autonomous.\",\n",
    "    \"Tesla's action is not directly reflective of my opinion. Having some Bitcoin, which is simply a less dumb form of liquidity than cash, is adventurous enough for an S&P500 company.\",\n",
    "    \"Coming to this restaurant is of course a no-brainer! Where else will we go to!\",\n",
    "    \"Pretty much\",\n",
    "]"
   ]
  },
  {
   "cell_type": "markdown",
   "id": "324e3837",
   "metadata": {},
   "source": [
    "The `distilbert-base` model:"
   ]
  },
  {
   "cell_type": "code",
   "execution_count": 134,
   "id": "3fd3d5a9",
   "metadata": {},
   "outputs": [
    {
     "name": "stdout",
     "output_type": "stream",
     "text": [
      "[{'label': 'POSITIVE', 'score': 0.5429087281227112}]\n",
      "Kong vs Godzilla has record for most meth ever consumed in a writer's room\n",
      "\n",
      "[{'label': 'NEGATIVE', 'score': 0.6348389387130737}]\n",
      "@ashleevance Battery energy density is the key to electric aircraft. Autonomy for aircraft could have been done a long time ago. Modern airliners are very close to autonomous.\n",
      "\n",
      "[{'label': 'POSITIVE', 'score': 0.9419693350791931}]\n",
      "Tesla's action is not directly reflective of my opinion. Having some Bitcoin, which is simply a less dumb form of liquidity than cash, is adventurous enough for an S&P500 company.\n",
      "\n",
      "[{'label': 'POSITIVE', 'score': 0.9940442442893982}]\n",
      "Coming to this restaurant is of course a no-brainer! Where else will we go to!\n",
      "\n",
      "[{'label': 'POSITIVE', 'score': 0.9996918439865112}]\n",
      "Pretty much\n",
      "\n"
     ]
    }
   ],
   "source": [
    "for tweet in example_difficult_tweets[0:1000]:\n",
    "    pprint(sentiment_pipeline(tweet))\n",
    "    print(tweet + '\\n')"
   ]
  },
  {
   "cell_type": "markdown",
   "id": "61230295",
   "metadata": {},
   "source": [
    "The `bertweet-base` model:"
   ]
  },
  {
   "cell_type": "code",
   "execution_count": 135,
   "id": "82f2d3e2",
   "metadata": {},
   "outputs": [
    {
     "name": "stdout",
     "output_type": "stream",
     "text": [
      "[{'label': 'NEG', 'score': 0.7213013768196106}]\n",
      "Kong vs Godzilla has record for most meth ever consumed in a writer's room\n",
      "\n",
      "[{'label': 'NEU', 'score': 0.8023843169212341}]\n",
      "@ashleevance Battery energy density is the key to electric aircraft. Autonomy for aircraft could have been done a long time ago. Modern airliners are very close to autonomous.\n",
      "\n",
      "[{'label': 'NEU', 'score': 0.8843538165092468}]\n",
      "Tesla's action is not directly reflective of my opinion. Having some Bitcoin, which is simply a less dumb form of liquidity than cash, is adventurous enough for an S&P500 company.\n",
      "\n",
      "[{'label': 'NEG', 'score': 0.8088064193725586}]\n",
      "Coming to this restaurant is of course a no-brainer! Where else will we go to!\n",
      "\n",
      "[{'label': 'NEU', 'score': 0.5120360851287842}]\n",
      "Pretty much\n",
      "\n"
     ]
    }
   ],
   "source": [
    "for tweet in example_difficult_tweets[0:1000]:\n",
    "    pprint(bertweet_pipeline(tweet))\n",
    "    print(tweet + '\\n')"
   ]
  },
  {
   "cell_type": "markdown",
   "id": "97f2c1c5",
   "metadata": {},
   "source": [
    "❓ How did you do? Did you find any surprising results? \n",
    "\n",
    "❓ Are there any instances where the two models gave different predictions for the same tweet?"
   ]
  },
  {
   "cell_type": "markdown",
   "id": "6118a27e",
   "metadata": {},
   "source": [
    "How did you do? Did you find any surprising results?\n",
    "\n",
    "Yes! I was leaning towards using berttweet-base as a better model but for my ambiguous positive statement (Coming to this restaurant is of course a no-brainer! Where else will we go to!) it declared it NEGATIVE when distilbert-base model managed to call it POSITIVE. That was surprising. \n",
    "\n",
    "Are there any instances where the two models gave different predictions for the same tweet?\n",
    "\n",
    "Yes indeed! All 5 of them! \n"
   ]
  },
  {
   "cell_type": "markdown",
   "id": "925c3cac",
   "metadata": {},
   "source": [
    "Sentiment is really subjective and so the analysis very much dependent on how well the models have learnt the nuances of the language, and also nuances of language used in Twitter or even more specifically Musk (he says Pretty much a lot!). The two models have been trained on different datasets - distilbert-base on more generic language understanding data like GLUE, and berttweet-base on a corpus of English tweets. The classes themselves are different and it appears that POS/NEU/NEG is better than POSITIVE/NEGATIVE. This assignment shows how we should be married to the data that we are trying to analyse more than the nuances of the transformer model architecture or performance on generic large datasets.  "
   ]
  }
 ],
 "metadata": {
  "kernelspec": {
   "display_name": "Python 3 (ipykernel)",
   "language": "python",
   "name": "python3"
  },
  "language_info": {
   "codemirror_mode": {
    "name": "ipython",
    "version": 3
   },
   "file_extension": ".py",
   "mimetype": "text/x-python",
   "name": "python",
   "nbconvert_exporter": "python",
   "pygments_lexer": "ipython3",
   "version": "3.8.13"
  },
  "vscode": {
   "interpreter": {
    "hash": "635e31ff34c0350df6e9d804eda70786d94f48b17fcc73c378df4ea6ec0d01fd"
   }
  }
 },
 "nbformat": 4,
 "nbformat_minor": 5
}
